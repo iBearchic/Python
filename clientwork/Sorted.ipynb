{
 "cells": [
  {
   "cell_type": "code",
   "execution_count": 10,
   "metadata": {},
   "outputs": [
    {
     "name": "stdin",
     "output_type": "stream",
     "text": [
      " 3\n",
      " Ivanov 15\n",
      " Petrov 10\n",
      " Sidorov 20\n"
     ]
    },
    {
     "name": "stdout",
     "output_type": "stream",
     "text": [
      "Sidorov\n",
      "Ivanov\n",
      "Petrov\n"
     ]
    }
   ],
   "source": [
    "n=int(input())\n",
    "\n",
    "l=[input().split() for i in range(n) ]\n",
    "    \n",
    "l=sorted(l, key=lambda x: int(x[1]),reverse=True) \n",
    "\n",
    "for i in l:\n",
    "    print(i[0])"
   ]
  },
  {
   "cell_type": "code",
   "execution_count": null,
   "metadata": {},
   "outputs": [],
   "source": []
  }
 ],
 "metadata": {
  "kernelspec": {
   "display_name": "Python 3",
   "language": "python",
   "name": "python3"
  },
  "language_info": {
   "codemirror_mode": {
    "name": "ipython",
    "version": 3
   },
   "file_extension": ".py",
   "mimetype": "text/x-python",
   "name": "python",
   "nbconvert_exporter": "python",
   "pygments_lexer": "ipython3",
   "version": "3.7.4"
  }
 },
 "nbformat": 4,
 "nbformat_minor": 4
}
