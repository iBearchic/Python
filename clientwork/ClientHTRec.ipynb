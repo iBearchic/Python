{
 "cells": [
  {
   "cell_type": "markdown",
   "metadata": {},
   "source": [
    "# <font color='red'>Задача 1*</font>"
   ]
  },
  {
   "cell_type": "code",
   "execution_count": null,
   "metadata": {},
   "outputs": [],
   "source": [
    "#d - это база данных факториалов: число:факториал числа\n",
    "d={1: 1, 2: 2, 3: 6, } \n",
    "\n",
    "# функция поиска факториала через базу данных\n",
    "def FactDict(n):\n",
    "    if n in d.keys():\n",
    "        return d[n]\n",
    "    else:\n",
    "        r=1\n",
    "        for i in range(1,n+1):\n",
    "            r=r*i\n",
    "            d.update({i:r})\n",
    "        return r"
   ]
  },
  {
   "cell_type": "markdown",
   "metadata": {},
   "source": [
    "## Ускорение кода"
   ]
  },
  {
   "cell_type": "markdown",
   "metadata": {},
   "source": [
    "## Пробовать реализовать ту же самую функцию, только так, чтобы в пункте ELSE обновлялась не вся база данных, а только нужный кусочек"
   ]
  },
  {
   "cell_type": "code",
   "execution_count": 46,
   "metadata": {},
   "outputs": [],
   "source": [
    "#d - это база данных факториалов: число:факториал числа\n",
    "d={1: 1, 2: 2, 3: 6, } \n",
    "\n",
    "# функция поиска факториала через базу данных\n",
    "def FactDictUpgraded(n):\n",
    "    if n in d.keys():\n",
    "        return d[n]\n",
    "    else:\n",
    "        k=max(d.keys())\n",
    "        r=d[k]\n",
    "        \n",
    "        for i in range(1+k,n+1):\n",
    "            r=r*i\n",
    "            d.update({i:r})\n",
    "        return r"
   ]
  },
  {
   "cell_type": "markdown",
   "metadata": {},
   "source": [
    "# Задача 2\n",
    "\n",
    "Напиши рекурсивный поиск n-ного члена арифметической прогрессии\n",
    "\n",
    "def Arif(a0,d,n):\n",
    "\n",
    "    ...\n",
    "    \n",
    "'>>>' Arif(1,1,10)\n",
    "\n",
    "'>>>' 11\n"
   ]
  },
  {
   "cell_type": "code",
   "execution_count": 12,
   "metadata": {},
   "outputs": [],
   "source": [
    "def Arif(a0, d, n):\n",
    "    if n==0:\n",
    "        return a0\n",
    "    else:\n",
    "        #Принт просто показывает последовательность действий питона\n",
    "        print(\"a0=\",a0,\"n=\",n)\n",
    "        \n",
    "        #Это уже наша рекурсия. Мы увеличиваем наше начально число а0 на \"d\", а кол-во шагов уменьшаем на 1\n",
    "        return Arif(a0+d, d, n-1)\n",
    "    "
   ]
  },
  {
   "cell_type": "code",
   "execution_count": 13,
   "metadata": {
    "collapsed": true,
    "jupyter": {
     "outputs_hidden": true
    }
   },
   "outputs": [
    {
     "name": "stdout",
     "output_type": "stream",
     "text": [
      "a0= 1 n= 20\n",
      "a0= 2 n= 19\n",
      "a0= 3 n= 18\n",
      "a0= 4 n= 17\n",
      "a0= 5 n= 16\n",
      "a0= 6 n= 15\n",
      "a0= 7 n= 14\n",
      "a0= 8 n= 13\n",
      "a0= 9 n= 12\n",
      "a0= 10 n= 11\n",
      "a0= 11 n= 10\n",
      "a0= 12 n= 9\n",
      "a0= 13 n= 8\n",
      "a0= 14 n= 7\n",
      "a0= 15 n= 6\n",
      "a0= 16 n= 5\n",
      "a0= 17 n= 4\n",
      "a0= 18 n= 3\n",
      "a0= 19 n= 2\n",
      "a0= 20 n= 1\n"
     ]
    },
    {
     "data": {
      "text/plain": [
       "21"
      ]
     },
     "execution_count": 13,
     "metadata": {},
     "output_type": "execute_result"
    }
   ],
   "source": [
    "Arif(1,1,20)"
   ]
  },
  {
   "cell_type": "markdown",
   "metadata": {},
   "source": [
    "# Задача 3 (Интересная задача)\n",
    "\n",
    "Числа Фибоначчи определяются рекуррентным выражением, т.е. таким, что вычисление элемента которого выражается из предыдущих элементов: \n",
    "\n",
    "F(0)=0, F(1)=1, F(n)=F(n-1)+F(n-2)\n",
    "\n",
    "**Написать рекурсивную функцию, которая находит n-ное по счёту число Фибоначчи. n-это число, которое вводит пользователь**"
   ]
  },
  {
   "cell_type": "markdown",
   "metadata": {},
   "source": [
    "> # Тесты :\n",
    "\n",
    "> F(5) выдает 5\n",
    "\n",
    "> F(6) выдает 8\n",
    "\n",
    "> F(7) выдает 13"
   ]
  },
  {
   "cell_type": "code",
   "execution_count": 31,
   "metadata": {},
   "outputs": [],
   "source": [
    "def Fib(n):\n",
    "    if n==0:\n",
    "        return 0\n",
    "    elif n==1:\n",
    "        return 1\n",
    "    else:\n",
    "        return Fib(n-1)+Fib(n-2)"
   ]
  },
  {
   "cell_type": "code",
   "execution_count": 32,
   "metadata": {},
   "outputs": [
    {
     "data": {
      "text/plain": [
       "13"
      ]
     },
     "execution_count": 32,
     "metadata": {},
     "output_type": "execute_result"
    }
   ],
   "source": [
    "Fib(7)"
   ]
  },
  {
   "cell_type": "code",
   "execution_count": null,
   "metadata": {},
   "outputs": [],
   "source": []
  }
 ],
 "metadata": {
  "kernelspec": {
   "display_name": "Python 3",
   "language": "python",
   "name": "python3"
  },
  "language_info": {
   "codemirror_mode": {
    "name": "ipython",
    "version": 3
   },
   "file_extension": ".py",
   "mimetype": "text/x-python",
   "name": "python",
   "nbconvert_exporter": "python",
   "pygments_lexer": "ipython3",
   "version": "3.7.4"
  }
 },
 "nbformat": 4,
 "nbformat_minor": 4
}
