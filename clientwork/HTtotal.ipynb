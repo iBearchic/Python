{
 "cells": [
  {
   "cell_type": "markdown",
   "metadata": {},
   "source": [
    "# Списки, словари, кортежи и множества"
   ]
  },
  {
   "cell_type": "markdown",
   "metadata": {},
   "source": [
    ">  Поменять местами значения переменных a и b, не прибегая к созданию дополнительных переменных\n"
   ]
  },
  {
   "cell_type": "code",
   "execution_count": 27,
   "metadata": {},
   "outputs": [],
   "source": [
    "a = 100\n",
    "b = 'hello' \n",
    "c = 1\n",
    "# a == 'hello'\n",
    "# b == 100"
   ]
  },
  {
   "cell_type": "code",
   "execution_count": 32,
   "metadata": {},
   "outputs": [],
   "source": [
    "( a, b, c ) = (c, b, a) # метод \"swap\" кортежи"
   ]
  },
  {
   "cell_type": "code",
   "execution_count": 33,
   "metadata": {},
   "outputs": [
    {
     "data": {
      "text/plain": [
       "(1, 'hello', 100)"
      ]
     },
     "execution_count": 33,
     "metadata": {},
     "output_type": "execute_result"
    }
   ],
   "source": [
    "a,b,c"
   ]
  },
  {
   "cell_type": "markdown",
   "metadata": {},
   "source": [
    "> Проверить, есть ли в последовательности дубликаты, то есть повторяющиеся элементы"
   ]
  },
  {
   "cell_type": "code",
   "execution_count": 52,
   "metadata": {},
   "outputs": [
    {
     "data": {
      "text/plain": [
       "[0, 3, 6, 4, 6, 6, 3, 1, 4, 4]"
      ]
     },
     "execution_count": 52,
     "metadata": {},
     "output_type": "execute_result"
    }
   ],
   "source": [
    "from random import randint\n",
    "\n",
    "lst = [ randint(0,6) for i in range(10) ]\n",
    "\n",
    "lst\n",
    "#set - это множество в Питоне"
   ]
  },
  {
   "cell_type": "code",
   "execution_count": 53,
   "metadata": {},
   "outputs": [
    {
     "data": {
      "text/plain": [
       "10"
      ]
     },
     "execution_count": 53,
     "metadata": {},
     "output_type": "execute_result"
    }
   ],
   "source": [
    "#узнаем длину списка lst\n",
    "len(lst)"
   ]
  },
  {
   "cell_type": "code",
   "execution_count": 55,
   "metadata": {},
   "outputs": [
    {
     "data": {
      "text/plain": [
       "{0, 1, 3, 4, 6}"
      ]
     },
     "execution_count": 55,
     "metadata": {},
     "output_type": "execute_result"
    }
   ],
   "source": [
    "c = set(lst)\n",
    "c"
   ]
  },
  {
   "cell_type": "markdown",
   "metadata": {},
   "source": [
    "## Решение задачи:"
   ]
  },
  {
   "cell_type": "code",
   "execution_count": 56,
   "metadata": {},
   "outputs": [
    {
     "name": "stdout",
     "output_type": "stream",
     "text": [
      "Повторы были\n"
     ]
    }
   ],
   "source": [
    "if len(lst) == len(c):\n",
    "    print('Нет повторений')\n",
    "else:\n",
    "    print('Повторы были')"
   ]
  },
  {
   "cell_type": "markdown",
   "metadata": {},
   "source": [
    "> На примере данного словаря запустить и объяснить принцип работы методов .get(), .keys(), .values(), .items()"
   ]
  },
  {
   "cell_type": "code",
   "execution_count": 66,
   "metadata": {},
   "outputs": [
    {
     "name": "stdout",
     "output_type": "stream",
     "text": [
      "33\n",
      "Нет заданного ключа\n",
      "dict_keys([1, 2, 'str'])\n",
      "dict_values(['f', 33, 5])\n",
      "dict_items([(1, 'f'), (2, 33), ('str', 5)])\n"
     ]
    }
   ],
   "source": [
    "dct = {1: 'f', 2: 33, 'str': 5}\n",
    "\n",
    "print(dct.get(2))\n",
    "print(dct.get(3,'Нет заданного ключа')) #метод .get(key) пытается достать значение, соответствующее ключу key\n",
    "\n",
    "print(dct.keys())\n",
    "\n",
    "print(dct.values())\n",
    "\n",
    "print(dct.items())"
   ]
  },
  {
   "cell_type": "markdown",
   "metadata": {},
   "source": [
    "> Объяснить, как работает функция \"объединения\" и \"пересечения\" двух множеств"
   ]
  },
  {
   "cell_type": "code",
   "execution_count": 70,
   "metadata": {},
   "outputs": [
    {
     "name": "stdout",
     "output_type": "stream",
     "text": [
      "{1, 'c', 4, 5, '4', 77, 'b', 'a'}\n",
      "{'c'}\n"
     ]
    }
   ],
   "source": [
    "st1 = {'a', 'b', 'c', 4}\n",
    "st2 = {'c', 1, '4', 4}\n",
    "\n",
    "print(st1 | st2 | {'a',5,77}) #Объединение множеств тоже является множеством\n",
    "# {'a', 'b', 'c', 4,'c', 1, '4', 4} -> {'a', 'b', 'c', 4, 1, '4'} -> сортируем множество \n",
    "\n",
    "print(st1 & st2 & {'c',2,3}) #Пересечение множеств\n",
    "# Пересечение множеств - это множество, элементами которого являются элементы, \n",
    "# присутствующие во всех изначальных множествах одновременно"
   ]
  },
  {
   "cell_type": "markdown",
   "metadata": {},
   "source": [
    "# Функции, условия и циклы"
   ]
  },
  {
   "cell_type": "markdown",
   "metadata": {},
   "source": [
    "> Написать программу, которая будет выводить нечетные числа из списка и остановится, если встретит 111"
   ]
  },
  {
   "cell_type": "code",
   "execution_count": 83,
   "metadata": {},
   "outputs": [
    {
     "name": "stdout",
     "output_type": "stream",
     "text": [
      "[27, 137, 178, 112, 178, 78, 191, 40, 91, 107, 175, 66, 159, 148, 4, 48, 154, 165, 200, 174, 111, 194, 61, 68, 42, 106, 173, 169, 125, 129]\n",
      "Выборка чисел:\n",
      "27\n",
      "137\n",
      "191\n",
      "91\n",
      "107\n",
      "175\n",
      "159\n",
      "165\n",
      "111\n"
     ]
    }
   ],
   "source": [
    "from random import randint\n",
    "\n",
    "lst_1 = [randint(0,200) for i in range(30)]\n",
    "lst_1[20] = 111\n",
    "\n",
    "print(lst_1)\n",
    "print('Выборка чисел:')\n",
    "for e in lst_1:\n",
    "    if e % 2 == 1:\n",
    "        print(e)\n",
    "        if e == 111:\n",
    "            break\n"
   ]
  },
  {
   "cell_type": "markdown",
   "metadata": {},
   "source": [
    "> Создать список с элементами 20, 15, 10, 5, 0  использовав функцию range()"
   ]
  },
  {
   "cell_type": "code",
   "execution_count": 65,
   "metadata": {},
   "outputs": [
    {
     "data": {
      "text/plain": [
       "[20, 15, 10, 5, 0]"
      ]
     },
     "execution_count": 65,
     "metadata": {},
     "output_type": "execute_result"
    }
   ],
   "source": [
    "lst =  list(range(20, -1, -5))\n",
    "\n",
    "lst\n",
    "\n",
    "# lst = [i for i in range(20,-1,-5)]"
   ]
  },
  {
   "cell_type": "markdown",
   "metadata": {},
   "source": [
    "> Написать функцию month_to_season(), которая принимает на вход номер месяца, а на выходе выдает к какому сезону (Зима, Весна, Лето, Осень) он относится"
   ]
  },
  {
   "cell_type": "code",
   "execution_count": 10,
   "metadata": {},
   "outputs": [],
   "source": [
    "# Пример работы:\n",
    "\n",
    "# month_to_season(5) == 'Spring'\n",
    "# month_to_season(1) == 'Winter'\n",
    "# month_to_season(10) == 'Autumn'\n",
    "# month_to_season(7) == 'Summer'"
   ]
  },
  {
   "cell_type": "code",
   "execution_count": 35,
   "metadata": {},
   "outputs": [],
   "source": [
    "def month_to_season(month):\n",
    "    # Создадим локальный словарик\n",
    "    season = {(12, 1, 2): 'Winter',\n",
    "              (3, 4, 5): 'Spring',\n",
    "              (6, 7, 8): 'Summer',\n",
    "              (9,10,11): 'Autumn'}\n",
    "    if month in range(1,13):\n",
    "        for key in season.keys():\n",
    "            if month in key:\n",
    "                print(season[key])\n",
    "                \n",
    "    #Обработка ошибок и перезапуск функции\n",
    "    else:\n",
    "        print('Вы ввели неправильный номер месяца')\n",
    "        m = int(input('Введите номер месяца от 1 до 12'))\n",
    "        month_to_season(m)"
   ]
  },
  {
   "cell_type": "markdown",
   "metadata": {},
   "source": [
    "> Написать функцию, в которую подается список чисел на вход, а на выходе ***возвращается*** новый список чисел, в котором лежает\n",
    "> элементы данного списка, удовлетворяющие условиям:\n",
    "\n",
    "* числа в новом списке должны быть ***меньше 30, но больше 5***\n",
    "* сумма чисел нового списка не должна превысит 100"
   ]
  },
  {
   "cell_type": "code",
   "execution_count": 111,
   "metadata": {},
   "outputs": [],
   "source": [
    "def list_filter(lst):\n",
    "    # Создадим новый список\n",
    "    new_l = []\n",
    "    \n",
    "    #Добавим элементы в новый список из старого\n",
    "    for i in lst:\n",
    "        if i<30 and i>5:\n",
    "            if sum(new_l)>100:\n",
    "                break\n",
    "            new_l.append(i)\n",
    "            \n",
    "    return new_l"
   ]
  },
  {
   "cell_type": "code",
   "execution_count": 112,
   "metadata": {},
   "outputs": [],
   "source": [
    "l = [1, 29, 25, 88, 11, 25, 25, 6]"
   ]
  },
  {
   "cell_type": "code",
   "execution_count": 113,
   "metadata": {},
   "outputs": [
    {
     "data": {
      "text/plain": [
       "[29, 25, 11, 25]"
      ]
     },
     "execution_count": 113,
     "metadata": {},
     "output_type": "execute_result"
    }
   ],
   "source": [
    "list_filter(l)"
   ]
  },
  {
   "cell_type": "markdown",
   "metadata": {},
   "source": [
    "# ООП. Классы"
   ]
  },
  {
   "cell_type": "markdown",
   "metadata": {},
   "source": [
    "> Создать класс **Phone**:\n",
    "\n",
    "> Он умеет звонить по номеру\n",
    "\n",
    ">У телефона есть память, как Основная, так и оперативная (задаются при инициализации устройства)\n",
    "\n",
    "> У него есть заряд и батарейка, соответсвенно\n",
    "\n",
    "> На нем можно включать/выключать Wi-Fi\n",
    "\n",
    "> На него можно установить игру (по названию игры из ***заранее написанной библиотеке игр***) и посмотреть список имеющихся"
   ]
  },
  {
   "cell_type": "code",
   "execution_count": 2,
   "metadata": {},
   "outputs": [],
   "source": [
    "class Phone:\n",
    "    \n",
    "    # Место для твоего кода\n",
    "    \n",
    "    pass"
   ]
  },
  {
   "cell_type": "markdown",
   "metadata": {},
   "source": [
    "## <a style='color:red'>Дополнительное задание</a>\n",
    "## Сделать возможность выбора операционной системы при инициализации нового устройства. Каждая операционка (Android, IOS) является в свою очередь классом, имеющим определенные методы и атрибуты"
   ]
  },
  {
   "cell_type": "code",
   "execution_count": null,
   "metadata": {},
   "outputs": [],
   "source": []
  }
 ],
 "metadata": {
  "kernelspec": {
   "display_name": "Python 3",
   "language": "python",
   "name": "python3"
  },
  "language_info": {
   "codemirror_mode": {
    "name": "ipython",
    "version": 3
   },
   "file_extension": ".py",
   "mimetype": "text/x-python",
   "name": "python",
   "nbconvert_exporter": "python",
   "pygments_lexer": "ipython3",
   "version": "3.7.4"
  }
 },
 "nbformat": 4,
 "nbformat_minor": 4
}
