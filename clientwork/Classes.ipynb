{
 "cells": [
  {
   "cell_type": "code",
   "execution_count": 1,
   "metadata": {},
   "outputs": [],
   "source": [
    "class Dog:\n",
    "    pass"
   ]
  },
  {
   "cell_type": "code",
   "execution_count": 2,
   "metadata": {},
   "outputs": [],
   "source": [
    "dog1= Dog() #объявление экземпляра класса"
   ]
  },
  {
   "cell_type": "code",
   "execution_count": 6,
   "metadata": {},
   "outputs": [],
   "source": [
    "dog1.name=\"Sharik\" #определение переменной внутри экземпляра класса"
   ]
  },
  {
   "cell_type": "code",
   "execution_count": 11,
   "metadata": {},
   "outputs": [],
   "source": [
    "dog1.age=3"
   ]
  },
  {
   "cell_type": "code",
   "execution_count": 12,
   "metadata": {},
   "outputs": [
    {
     "data": {
      "text/plain": [
       "3"
      ]
     },
     "execution_count": 12,
     "metadata": {},
     "output_type": "execute_result"
    }
   ],
   "source": [
    "dog1.age"
   ]
  },
  {
   "cell_type": "markdown",
   "metadata": {},
   "source": [
    "# Методы в классах"
   ]
  },
  {
   "cell_type": "code",
   "execution_count": 45,
   "metadata": {},
   "outputs": [],
   "source": [
    "class Dog:\n",
    "    name=\"doggy\"\n",
    "    def bark(self): #обязательный аргумент self\n",
    "        print(\"Woof from\",self.name)"
   ]
  },
  {
   "cell_type": "code",
   "execution_count": 46,
   "metadata": {},
   "outputs": [],
   "source": [
    "dog1=Dog()"
   ]
  },
  {
   "cell_type": "code",
   "execution_count": 47,
   "metadata": {},
   "outputs": [
    {
     "name": "stdout",
     "output_type": "stream",
     "text": [
      "Woof from doggy\n"
     ]
    }
   ],
   "source": [
    "dog1.bark()"
   ]
  },
  {
   "cell_type": "code",
   "execution_count": 50,
   "metadata": {},
   "outputs": [],
   "source": [
    "dog1.name=\"Sharik\""
   ]
  },
  {
   "cell_type": "code",
   "execution_count": 51,
   "metadata": {},
   "outputs": [
    {
     "data": {
      "text/plain": [
       "'Sharik'"
      ]
     },
     "execution_count": 51,
     "metadata": {},
     "output_type": "execute_result"
    }
   ],
   "source": [
    "dog1.name"
   ]
  },
  {
   "cell_type": "code",
   "execution_count": 48,
   "metadata": {},
   "outputs": [],
   "source": [
    "dog2=Dog()"
   ]
  },
  {
   "cell_type": "code",
   "execution_count": 52,
   "metadata": {},
   "outputs": [
    {
     "name": "stdout",
     "output_type": "stream",
     "text": [
      "Woof from Sharik\n"
     ]
    }
   ],
   "source": [
    "dog1.bark()"
   ]
  },
  {
   "cell_type": "code",
   "execution_count": 53,
   "metadata": {},
   "outputs": [
    {
     "name": "stdout",
     "output_type": "stream",
     "text": [
      "Woof from doggy\n"
     ]
    }
   ],
   "source": [
    "dog2.bark()"
   ]
  },
  {
   "cell_type": "markdown",
   "metadata": {},
   "source": [
    "# Конструктор класса"
   ]
  },
  {
   "cell_type": "code",
   "execution_count": 73,
   "metadata": {},
   "outputs": [],
   "source": [
    "class Dog:\n",
    "    #ниже будет написано определение Конструктора\n",
    "    def __init__(self, new_name=\"doggy\"):\n",
    "        self.name= new_name\n",
    "        print(\"Родилась новая собака по имени\",self.name)\n",
    "    \n",
    "    def bark(self): #обязательный аргумент self\n",
    "        print(\"Woof from\",self.name)"
   ]
  },
  {
   "cell_type": "code",
   "execution_count": 74,
   "metadata": {},
   "outputs": [
    {
     "name": "stdout",
     "output_type": "stream",
     "text": [
      "Родилась новая собака по имени Sharik\n"
     ]
    }
   ],
   "source": [
    "dog2=Dog(\"Sharik\")"
   ]
  },
  {
   "cell_type": "code",
   "execution_count": 75,
   "metadata": {},
   "outputs": [
    {
     "name": "stdout",
     "output_type": "stream",
     "text": [
      "Родилась новая собака по имени doggy\n"
     ]
    }
   ],
   "source": [
    "dog1=Dog()"
   ]
  },
  {
   "cell_type": "markdown",
   "metadata": {},
   "source": [
    "# Пример класса Cat"
   ]
  },
  {
   "cell_type": "markdown",
   "metadata": {},
   "source": [
    "Мы создадим класс Cat, экземпляры которого будут кошками, умеющими:\n",
    "* мяукать\n",
    "* пить молочко\n",
    "* играть с клубком"
   ]
  },
  {
   "cell_type": "code",
   "execution_count": 2,
   "metadata": {},
   "outputs": [],
   "source": [
    "class Cat:\n",
    "    # атрибуты класса Cat\n",
    "    eatc = 1 #показатель сытости в процентах\n",
    "    legs = 4 #количество неповрежденных лапок\n",
    "    \n",
    "    # методы класса Cat\n",
    "    \n",
    "    # метод инициализация\n",
    "    def __init__(self, new_name = \"Noname\"):\n",
    "        self.name = new_name\n",
    "        print(\"Родилась кошка с именем\", self.name)\n",
    "    \n",
    "    # метод общего состояния\n",
    "    def meow(self):\n",
    "        print(\"Сытость кошки\", self.name, \":\", self.eatc)\n",
    "        print(\"Количество неповрежденных лапок кошки\", self.name,\":\",self.legs)\n",
    "    \n",
    "    # метод кормление\n",
    "    def drink_milk(self):\n",
    "        if self.eatc < 100:\n",
    "            self.eatc+=10\n",
    "            print(self.name,\"поела\")\n",
    "        else:\n",
    "            print(self.name, \"сыта\")\n",
    "    \n",
    "    # метод игры\n",
    "    def gaming(self):\n",
    "        import random\n",
    "        \n",
    "        if self.eatc >= 10:\n",
    "            self.eatc-=1\n",
    "            n = random.choice([0,0,0,1])\n",
    "            if n==0:\n",
    "                print(self.name,\"пнула клубок\")\n",
    "            else:\n",
    "                print(self.name,\"пнула клубок и повредила лапку. Срочно вылечите ее\")\n",
    "                self.legs-=1\n",
    "        elif self.eatc>2:\n",
    "            self.eatc-=1\n",
    "            print(self.name, \"хочет есть, а не играть!!!!\")\n",
    "        else:\n",
    "            print(\"Срочно покорми меня, а то мне плохо\")\n",
    "            \n",
    "    # метод лечения        \n",
    "    def veterenar(self):\n",
    "        if self.legs<4:\n",
    "            self.legs+=1\n",
    "            print(self.name,\"Подлатал лапку\")\n",
    "        else:\n",
    "            print(self.name,\"Все лапки на месте\")"
   ]
  },
  {
   "cell_type": "code",
   "execution_count": 5,
   "metadata": {},
   "outputs": [
    {
     "name": "stdout",
     "output_type": "stream",
     "text": [
      "Родилась кошка с именем Barsik\n"
     ]
    }
   ],
   "source": [
    "cat1=Cat(\"Barsik\")"
   ]
  },
  {
   "cell_type": "code",
   "execution_count": 4,
   "metadata": {},
   "outputs": [
    {
     "name": "stdout",
     "output_type": "stream",
     "text": [
      "Сытость кошки Barsik : 1\n",
      "Количество неповрежденных лапок кошки Barsik : 4\n"
     ]
    }
   ],
   "source": [
    "cat1.meow()"
   ]
  },
  {
   "cell_type": "code",
   "execution_count": 209,
   "metadata": {},
   "outputs": [
    {
     "name": "stdout",
     "output_type": "stream",
     "text": [
      "Barsik поела\n"
     ]
    }
   ],
   "source": [
    "cat1.drink_milk()"
   ]
  },
  {
   "cell_type": "code",
   "execution_count": 217,
   "metadata": {},
   "outputs": [
    {
     "name": "stdout",
     "output_type": "stream",
     "text": [
      "Barsik пнула клубок и повредила лапку. Срочно вылечите ее\n"
     ]
    }
   ],
   "source": [
    "cat1.gaming()"
   ]
  },
  {
   "cell_type": "markdown",
   "metadata": {},
   "source": [
    "# Наследование классов"
   ]
  },
  {
   "cell_type": "code",
   "execution_count": 3,
   "metadata": {},
   "outputs": [],
   "source": [
    "#определим базовый класс для дальнейшего наследования\n",
    "\n",
    "class Man:\n",
    "    ID = 0\n",
    "    eyes=2\n",
    "    legs=2\n",
    "    arms=2\n",
    "    \n",
    "    \n",
    "    #метод инициализации класса Man\n",
    "    def __init__(self, new_name = \"Noname\"):\n",
    "        if self.ID == 0:\n",
    "            self.name = new_name\n",
    "            print(\"Родился человек с именем\", self.name)\n",
    "        elif self.ID == 1:\n",
    "            self.name = new_name\n",
    "            print(\"Родился человек с именем\", self.name, \"и стал строителем\")\n",
    "        elif self.ID == 2:\n",
    "            self.name = new_name\n",
    "            print(\"Родился человек с именем\", self.name, \"и стал прорабом\")\n",
    " "
   ]
  },
  {
   "cell_type": "code",
   "execution_count": 4,
   "metadata": {},
   "outputs": [
    {
     "name": "stdout",
     "output_type": "stream",
     "text": [
      "Родился человек с именем Антон\n"
     ]
    }
   ],
   "source": [
    "man1=Man(\"Антон\")"
   ]
  },
  {
   "cell_type": "code",
   "execution_count": 16,
   "metadata": {},
   "outputs": [],
   "source": [
    "class Builder(Man):\n",
    "    ID = 1\n",
    "    helmet=1\n",
    "    hammer=1\n",
    "            \n",
    "    def build(self):\n",
    "        if self.ID == 1:\n",
    "            print(self.name,\"построил дом\")\n",
    "        elif self.ID == 2:\n",
    "            print(\"Прораб\",self.name,\"построил дом\")\n",
    "        \n",
    "    def destroy(self):\n",
    "        print(self.name,\"сломал дом\")"
   ]
  },
  {
   "cell_type": "code",
   "execution_count": 17,
   "metadata": {},
   "outputs": [
    {
     "name": "stdout",
     "output_type": "stream",
     "text": [
      "Родился человек с именем Дима и стал строителем\n"
     ]
    }
   ],
   "source": [
    "builder1=Builder(\"Дима\")"
   ]
  },
  {
   "cell_type": "code",
   "execution_count": 18,
   "metadata": {},
   "outputs": [
    {
     "name": "stdout",
     "output_type": "stream",
     "text": [
      "Дима построил дом\n"
     ]
    }
   ],
   "source": [
    "builder1.build()"
   ]
  },
  {
   "cell_type": "code",
   "execution_count": 19,
   "metadata": {},
   "outputs": [],
   "source": [
    "class ProWorker(Builder):\n",
    "    ID = 2\n",
    "    education='high'        \n",
    "    def rule(self):\n",
    "        print(\"Эй ты! Иди работай быстро!!!\")"
   ]
  },
  {
   "cell_type": "code",
   "execution_count": 20,
   "metadata": {},
   "outputs": [
    {
     "name": "stdout",
     "output_type": "stream",
     "text": [
      "Родился человек с именем Сергей и стал прорабом\n"
     ]
    }
   ],
   "source": [
    "proworker1 = ProWorker(\"Сергей\")"
   ]
  },
  {
   "cell_type": "code",
   "execution_count": 21,
   "metadata": {},
   "outputs": [
    {
     "name": "stdout",
     "output_type": "stream",
     "text": [
      "Прораб Сергей построил дом\n"
     ]
    }
   ],
   "source": [
    "proworker1.build()"
   ]
  },
  {
   "cell_type": "markdown",
   "metadata": {},
   "source": [
    "### Проверим, наследуются ли классом ProWorker атрибуты класса Man"
   ]
  },
  {
   "cell_type": "code",
   "execution_count": 74,
   "metadata": {},
   "outputs": [
    {
     "data": {
      "text/plain": [
       "2"
      ]
     },
     "execution_count": 74,
     "metadata": {},
     "output_type": "execute_result"
    }
   ],
   "source": [
    "proworker1.arms"
   ]
  },
  {
   "cell_type": "markdown",
   "metadata": {},
   "source": [
    "## Основные понятия"
   ]
  },
  {
   "cell_type": "markdown",
   "metadata": {},
   "source": [
    "**Порядок наследования** (**Порядок класса**)- это количество предшествующих наследованных классов данному классу"
   ]
  },
  {
   "cell_type": "markdown",
   "metadata": {},
   "source": [
    "Класс, имеющий нулевой порядок наследования, называет **Базовым**"
   ]
  },
  {
   "cell_type": "markdown",
   "metadata": {},
   "source": [
    "**Уровень наследования** определяется порядком наследования"
   ]
  },
  {
   "cell_type": "markdown",
   "metadata": {},
   "source": [
    "# \"Перегрузка\" методов классов"
   ]
  },
  {
   "cell_type": "markdown",
   "metadata": {},
   "source": [
    "## Первый вариант: доопределение метода для последующих наследуемых классов\n"
   ]
  },
  {
   "cell_type": "code",
   "execution_count": 22,
   "metadata": {},
   "outputs": [],
   "source": [
    "class Man:\n",
    "    ID = 0\n",
    "    eyes=2\n",
    "    legs=2\n",
    "    arms=2\n",
    "    \n",
    "    \n",
    "    #метод инициализации класса Man\n",
    "    def __init__(self, new_name = \"Noname\"):\n",
    "        if self.ID == 0:\n",
    "            self.name = new_name\n",
    "            print(\"Родился человек с именем\", self.name)\n",
    "        elif self.ID == 1:\n",
    "            self.name = new_name\n",
    "            print(\"Родился человек с именем\", self.name, \"и стал строителем\")\n",
    "        elif self.ID == 2:\n",
    "            self.name = new_name\n",
    "            print(\"Родился человек с именем\", self.name, \"и стал прорабом\")"
   ]
  },
  {
   "cell_type": "code",
   "execution_count": 23,
   "metadata": {},
   "outputs": [],
   "source": [
    "class Builder(Man):\n",
    "    ID = 1\n",
    "    hammer=1\n",
    "            \n",
    "    def build(self):\n",
    "        if self.ID == 1:\n",
    "            print(self.name,\"построил дом\")\n",
    "        elif self.ID == 2:\n",
    "            print(\"Прораб\",self.name,\"построил дом\")\n",
    "        \n",
    "    def destroy(self):\n",
    "        print(self.name,\"сломал дом\")"
   ]
  },
  {
   "cell_type": "markdown",
   "metadata": {},
   "source": [
    "## Второй вариант: переосмыление операций"
   ]
  },
  {
   "cell_type": "code",
   "execution_count": 40,
   "metadata": {},
   "outputs": [],
   "source": [
    "class Decimal:\n",
    "    def __init__(self, chislit, znamen):\n",
    "        if znamen != 0:\n",
    "            self.chis = chislit\n",
    "            self.znam = znamen\n",
    "        else:\n",
    "            self.chis = chislit\n",
    "            self.znam = 1\n",
    "    \n",
    "    #Инструкция к операции сравнения \"==\"\n",
    "    def __eq__(self, value):\n",
    "        import math\n",
    "        x = self.chis\n",
    "        y = self.znam\n",
    "        z = value.chis\n",
    "        f = value.znam\n",
    "        \n",
    "        if x / math.gcd(x,y) == z / math.gcd(z,f)  and y / math.gcd(x,y) == f / math.gcd(z,f):\n",
    "            return True\n",
    "        else:\n",
    "            return False\n",
    "    \n",
    "    #Метод сокращения дроби\n",
    "    def reduction(self):\n",
    "        import math\n",
    "        n = math.gcd(self.chis,self.znam)\n",
    "        self.chis = int(self.chis/n)\n",
    "        self.znam = int(self.znam/n)\n",
    "    \n",
    "    #Инструкция к операции сложение \"+\"\n",
    "    def __add__(self, value):\n",
    "        obsh = self.znam * value.znam\n",
    "        return Decimal(self.chis*value.znam + value.chis*self.znam ,obsh)\n",
    "    \n",
    "    def __repr__(self):\n",
    "        return f\"Decimal({self.chis},{self.znam})\""
   ]
  },
  {
   "cell_type": "code",
   "execution_count": 41,
   "metadata": {},
   "outputs": [],
   "source": [
    "a = Decimal(1,2)"
   ]
  },
  {
   "cell_type": "code",
   "execution_count": 42,
   "metadata": {},
   "outputs": [],
   "source": [
    "b = Decimal(4,8)"
   ]
  },
  {
   "cell_type": "code",
   "execution_count": 47,
   "metadata": {},
   "outputs": [
    {
     "data": {
      "text/plain": [
       "Decimal(1,2)"
      ]
     },
     "execution_count": 47,
     "metadata": {},
     "output_type": "execute_result"
    }
   ],
   "source": [
    "b"
   ]
  },
  {
   "cell_type": "code",
   "execution_count": 16,
   "metadata": {},
   "outputs": [],
   "source": [
    "class Arms():\n",
    "    fingers = 10\n",
    "    pass"
   ]
  },
  {
   "cell_type": "code",
   "execution_count": 18,
   "metadata": {},
   "outputs": [],
   "source": [
    "class Eyes():\n",
    "    eye_color = \"green\"\n",
    "    pass"
   ]
  },
  {
   "cell_type": "code",
   "execution_count": 25,
   "metadata": {},
   "outputs": [],
   "source": [
    "#Пример использоваания множественного наследования и форматирования строк\n",
    "class Man(Arms, Eyes):\n",
    "    def __init__(self):\n",
    "        print(f\"Появился человек. Цвет глаз: {self.eye_color} Количество пальцев: {self.fingers}\")"
   ]
  },
  {
   "cell_type": "markdown",
   "metadata": {},
   "source": [
    "# Обработка ошибок"
   ]
  },
  {
   "cell_type": "code",
   "execution_count": 48,
   "metadata": {},
   "outputs": [
    {
     "ename": "ZeroDivisionError",
     "evalue": "division by zero",
     "output_type": "error",
     "traceback": [
      "\u001b[1;31m---------------------------------------------------------------------------\u001b[0m",
      "\u001b[1;31mZeroDivisionError\u001b[0m                         Traceback (most recent call last)",
      "\u001b[1;32m<ipython-input-48-bc757c3fda29>\u001b[0m in \u001b[0;36m<module>\u001b[1;34m\u001b[0m\n\u001b[1;32m----> 1\u001b[1;33m \u001b[1;36m1\u001b[0m \u001b[1;33m/\u001b[0m \u001b[1;36m0\u001b[0m\u001b[1;33m\u001b[0m\u001b[1;33m\u001b[0m\u001b[0m\n\u001b[0m",
      "\u001b[1;31mZeroDivisionError\u001b[0m: division by zero"
     ]
    }
   ],
   "source": [
    "1 / 0"
   ]
  },
  {
   "cell_type": "code",
   "execution_count": 6,
   "metadata": {},
   "outputs": [],
   "source": [
    "def try_div():\n",
    "    try:\n",
    "        x= int(input(\"Введите числитель дроби: \"))\n",
    "        y= int(input(\"Введите знаменатель дроби: \"))\n",
    "        return x/y\n",
    "    except ZeroDivisionError:\n",
    "        print(\"Внимание! Вы делите на ноль\")\n",
    "        try_div()\n",
    "        "
   ]
  },
  {
   "cell_type": "markdown",
   "metadata": {},
   "source": [
    "# Инкапсуляция в Python"
   ]
  },
  {
   "cell_type": "code",
   "execution_count": null,
   "metadata": {},
   "outputs": [],
   "source": [
    "class Human:\n",
    "    \n",
    "    # Статические поля\n",
    "    default_name = 'Noname'\n",
    "    default_age = 0\n",
    "    \n",
    "    def __init__(self, name = default_name, age = default_age):\n",
    "        # Динамические поля\n",
    "        # Публичные\n",
    "        self.name = name\n",
    "        self.age = age\n",
    "        # Приватные\n",
    "        self.__money = 0\n",
    "        self.__house = None\n",
    "    \n",
    "    def info(self):\n",
    "        print(f'Name: {self.name}')\n",
    "        print(f'Age: {self.age}')\n",
    "        print(f'Money: {self.__money}')\n",
    "        print(f'House: {self.__house}')\n",
    "    \n",
    "    # Статический метод, который не требует наличие конкретного экземпляра класса\n",
    "    @staticmethod\n",
    "    def default_info():\n",
    "        print(f'Default Name: {Human.default_name}')\n",
    "        print(f'Default Age: {Human.default_age}')\n",
    "    \n",
    "    \n",
    "    def earn_money(self, amount):\n",
    "        self.__money += amount\n",
    "        print(f'Earned {amount} money! Current value: {self.__money}')\n",
    "    \n",
    "    def buy_house(self, house, discount):\n",
    "        price = house.final_price(discount)\n",
    "        if self.__money >= price:\n",
    "            self.__make_deal(house, price)\n",
    "        else:\n",
    "            print('Not enough money!')\n",
    "    # Приватный метод\n",
    "    def __make_deal(self, house, price):\n",
    "        self.__money -= price\n",
    "        self.__house = house\n",
    "    \n",
    "class House:\n",
    "    \n",
    "    def __init__(self, area, price):\n",
    "        #Защищенный атрибут\n",
    "        self._area = area\n",
    "        self._price = price\n",
    "    \n",
    "    def final_price(self, discount):\n",
    "        final_price = self._price * (100 - discount) / 100\n",
    "        print(f'Final price: {final_price}')\n",
    "        return final_price\n",
    "\n",
    "class SmallHouse(House):\n",
    "    \n",
    "    default_area = 40\n",
    "    \n",
    "    def __init__(self, price):\n",
    "        #Делегирование обязанностей\n",
    "        super().__init__(SmallHouse.default_area, price)"
   ]
  }
 ],
 "metadata": {
  "kernelspec": {
   "display_name": "Python 3",
   "language": "python",
   "name": "python3"
  },
  "language_info": {
   "codemirror_mode": {
    "name": "ipython",
    "version": 3
   },
   "file_extension": ".py",
   "mimetype": "text/x-python",
   "name": "python",
   "nbconvert_exporter": "python",
   "pygments_lexer": "ipython3",
   "version": "3.7.4"
  }
 },
 "nbformat": 4,
 "nbformat_minor": 4
}
