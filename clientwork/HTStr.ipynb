{
 "cells": [
  {
   "cell_type": "markdown",
   "metadata": {},
   "source": [
    "# Домашняя работа"
   ]
  },
  {
   "cell_type": "markdown",
   "metadata": {},
   "source": [
    "> **Первая задача**\n",
    ">\n",
    ">Пользователь вводит с клавиатуры целое число, не меньшее 2.\n",
    ">\n",
    ">Выведите его **наименьший** делитель, отличный от 1, *используя цикл while*"
   ]
  },
  {
   "cell_type": "code",
   "execution_count": 13,
   "metadata": {},
   "outputs": [],
   "source": [
    "def Divisor():\n",
    "    n=int(input())\n",
    "    if(n>=2):     #фильтр, учитыая условие задачи\n",
    "        i=2       #счетчик, которые в будущем будет выведен\n",
    "        while(n%i!=0):\n",
    "            i=i+1\n",
    "        print(i)\n",
    "        return i"
   ]
  },
  {
   "cell_type": "code",
   "execution_count": 42,
   "metadata": {},
   "outputs": [
    {
     "name": "stdin",
     "output_type": "stream",
     "text": [
      " 29\n"
     ]
    },
    {
     "name": "stdout",
     "output_type": "stream",
     "text": [
      "29\n"
     ]
    },
    {
     "data": {
      "text/plain": [
       "29"
      ]
     },
     "execution_count": 42,
     "metadata": {},
     "output_type": "execute_result"
    }
   ],
   "source": [
    "Divisor()"
   ]
  },
  {
   "cell_type": "markdown",
   "metadata": {},
   "source": [
    "> **Вторая задача**\n",
    ">\n",
    ">Пользователь вводит с клавиатуры последовательность из натуральных чисел. Ввод заканчивается числом **0**. \n",
    ">\n",
    ">Определите значение ***наибольшего*** элемента последовательности"
   ]
  },
  {
   "cell_type": "code",
   "execution_count": 14,
   "metadata": {},
   "outputs": [],
   "source": [
    "def maximum():\n",
    "    n=int(input())    #мы начинаем программу\n",
    "    max=n            #мы определяем первый текущий максимум\n",
    "    while(n!=0):\n",
    "        if(n>=max):\n",
    "            max=n\n",
    "        n=int(input())\n",
    "    return max"
   ]
  },
  {
   "cell_type": "code",
   "execution_count": 37,
   "metadata": {},
   "outputs": [
    {
     "name": "stdin",
     "output_type": "stream",
     "text": [
      " 4\n",
      " 2\n",
      " 100\n",
      " 2020202\n",
      " 3058203523\n",
      " 9012930293\n",
      " 334093049\n",
      " 12\n",
      " 34566\n",
      " 3055703523\n",
      " 904746293\n",
      " 0\n"
     ]
    },
    {
     "data": {
      "text/plain": [
       "9012930293"
      ]
     },
     "execution_count": 37,
     "metadata": {},
     "output_type": "execute_result"
    }
   ],
   "source": [
    "maximum()"
   ]
  },
  {
   "cell_type": "markdown",
   "metadata": {},
   "source": [
    "> **Третья задача**\n",
    ">\n",
    ">Дана ***зашифрованная строка*** :\n",
    ">\n",
    ">'Паырериловфыесмтот,ль джефысвалртияч итвьбыюж эжэнетфыоке ричяуипитлнакуеьбтлоейй,23 98тд9о5е 77сдлпшгрцуавсв78иьтл9би65сфыь12 фмсжб розйфавад89апан8ои3ве5пм1ф!23'\n",
    ">\n",
    ">Определите, какой текст зашифрован!\n",
    "> *Подсказка: используйте срезы с разным шагом*"
   ]
  },
  {
   "cell_type": "code",
   "execution_count": 18,
   "metadata": {},
   "outputs": [],
   "source": [
    "s='Паырериловфыесмтот,ль джефысвалртияч итвьбыюж эжэнетфыоке ричяуипитлнакуеьбтлоейй,23 98тд9о5е 77сдлпшгрцуавсв78иьтл9би65сфыь12 фмсжб розйфавад89апан8ои3ве5пм1ф!23'"
   ]
  },
  {
   "cell_type": "code",
   "execution_count": 32,
   "metadata": {},
   "outputs": [
    {
     "data": {
      "text/plain": [
       "'Привет, если вы это читаете, то справились с заданием!'"
      ]
     },
     "execution_count": 32,
     "metadata": {},
     "output_type": "execute_result"
    }
   ],
   "source": [
    "s[0::3]"
   ]
  },
  {
   "cell_type": "markdown",
   "metadata": {},
   "source": [
    "# Разговор про цикл while"
   ]
  },
  {
   "cell_type": "code",
   "execution_count": 39,
   "metadata": {},
   "outputs": [
    {
     "name": "stdout",
     "output_type": "stream",
     "text": [
      "10\n",
      "9\n",
      "8\n",
      "7\n",
      "6\n",
      "5\n",
      "4\n",
      "3\n",
      "2\n",
      "1\n"
     ]
    }
   ],
   "source": [
    "i=10\n",
    "while(i>0):\n",
    "    print(i)\n",
    "    i=i-1"
   ]
  },
  {
   "cell_type": "markdown",
   "metadata": {},
   "source": [
    "# Вcегда помните про то, что условие в цикле while должно менятся, причем в нужную сторону. Если вы забудете прописать изменение счетчика, то мы получим бесконечный цикл"
   ]
  },
  {
   "cell_type": "markdown",
   "metadata": {},
   "source": [
    "> В каких типах задач стоит попробовать использовать цикл while"
   ]
  },
  {
   "cell_type": "markdown",
   "metadata": {},
   "source": [
    "* Перебор чисел, ввод последовательностей итп"
   ]
  },
  {
   "cell_type": "markdown",
   "metadata": {},
   "source": [
    "* Работа с счетчиком"
   ]
  },
  {
   "cell_type": "markdown",
   "metadata": {},
   "source": [
    "* Изменение состояния объекта"
   ]
  },
  {
   "cell_type": "code",
   "execution_count": null,
   "metadata": {},
   "outputs": [],
   "source": []
  }
 ],
 "metadata": {
  "kernelspec": {
   "display_name": "Python 3",
   "language": "python",
   "name": "python3"
  },
  "language_info": {
   "codemirror_mode": {
    "name": "ipython",
    "version": 3
   },
   "file_extension": ".py",
   "mimetype": "text/x-python",
   "name": "python",
   "nbconvert_exporter": "python",
   "pygments_lexer": "ipython3",
   "version": "3.8.5"
  }
 },
 "nbformat": 4,
 "nbformat_minor": 4
}
