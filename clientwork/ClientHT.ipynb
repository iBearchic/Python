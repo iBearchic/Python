{
 "cells": [
  {
   "cell_type": "markdown",
   "metadata": {},
   "source": [
    "# <font style=\"color:green\">Здравствуй</font>\n",
    "# <font style=\"color:green\">Ниже ты можешь увидеть порядка 15 задач</font>\n",
    "## <font style=\"color:green\">Первые 10 из них - на повтороение пройденного материала. Чтобы убедиться в его усвоении или найти пробелы. Последние же 5 задач - уже по новым темам, поэтому будут немного сложнее. В частности, последние 2 задачи- необязательные, так как будут повышенной сложности</font>\n",
    "## <font style=\"color:green\">Ко вторнику обязательно нужно сделать или просмотреть 11, 12, 13, а также любые две из первых десяти</font>"
   ]
  },
  {
   "cell_type": "markdown",
   "metadata": {},
   "source": [
    "# Задача №1"
   ]
  },
  {
   "cell_type": "markdown",
   "metadata": {},
   "source": [
    "Напишите программу поиская среднего арифметического"
   ]
  },
  {
   "cell_type": "code",
   "execution_count": 23,
   "metadata": {},
   "outputs": [
    {
     "name": "stdin",
     "output_type": "stream",
     "text": [
      " 1\n",
      " 2\n",
      " 3\n",
      " -1\n",
      " -1\n",
      " 0\n"
     ]
    },
    {
     "name": "stdout",
     "output_type": "stream",
     "text": [
      "СреднееАрифметическое:  0.8\n"
     ]
    }
   ],
   "source": [
    "# Среднеариф. -> sum(a,b,c,d...) / count(a,b,c,d)\n",
    "\n",
    "n=int(input()) # ввод с клавиатуры первого числа\n",
    "\n",
    "# начальные значения для суммы и количества чисел\n",
    "s=0\n",
    "k=0\n",
    "\n",
    "while (n!=0):\n",
    "    s = s+n\n",
    "    k = k+1\n",
    "    \n",
    "    n = int(input())\n",
    "\n",
    "print(\"СреднееАрифметическое: \",s/k)"
   ]
  },
  {
   "cell_type": "code",
   "execution_count": 16,
   "metadata": {},
   "outputs": [],
   "source": [
    "# Крутой вариант\n",
    "\n",
    "def mean(*arg):\n",
    "    return sum(arg)/ len(arg)"
   ]
  },
  {
   "cell_type": "code",
   "execution_count": 27,
   "metadata": {},
   "outputs": [
    {
     "data": {
      "text/plain": [
       "0.23076923076923078"
      ]
     },
     "execution_count": 27,
     "metadata": {},
     "output_type": "execute_result"
    }
   ],
   "source": [
    "mean(1,1,1,0,0,0,0,0,0,0,0,0,0)"
   ]
  },
  {
   "cell_type": "code",
   "execution_count": 55,
   "metadata": {},
   "outputs": [],
   "source": [
    "# money- количество денег\n",
    "# arg- мы записываемы цены товаров в нашей корзины\n",
    "\n",
    "def f(money, *arg, **kwargs):\n",
    "    print(\"money=\",money)\n",
    "    print(\"*arg=\",arg)\n",
    "    print(\"**kwargs=\", kwargs)"
   ]
  },
  {
   "cell_type": "code",
   "execution_count": 59,
   "metadata": {},
   "outputs": [
    {
     "name": "stdout",
     "output_type": "stream",
     "text": [
      "money= 100\n",
      "*arg= (40, 1, 12)\n",
      "**kwarg= {'item_1': ['хлеб', 10]}\n"
     ]
    }
   ],
   "source": [
    "f(100,40,1,12, item_1 = [\"хлеб\",10] )"
   ]
  },
  {
   "cell_type": "code",
   "execution_count": 77,
   "metadata": {},
   "outputs": [],
   "source": [
    "# задача на *arg\n",
    "# Нужно вывести в одной строке введенные с клавиантуры числа\n",
    "\n",
    "def ff(*arg):\n",
    "    print(*arg, sep = ':')"
   ]
  },
  {
   "cell_type": "code",
   "execution_count": 78,
   "metadata": {},
   "outputs": [
    {
     "name": "stdout",
     "output_type": "stream",
     "text": [
      "1:2:3:4\n"
     ]
    }
   ],
   "source": [
    "ff(1,2,3,4)"
   ]
  },
  {
   "cell_type": "markdown",
   "metadata": {},
   "source": [
    "# Задача №2"
   ]
  },
  {
   "cell_type": "markdown",
   "metadata": {},
   "source": [
    "Каким методом нужно воспользоваться, чтобы найти позицию символа \"12\" в строке \"2365423124\" ?"
   ]
  },
  {
   "cell_type": "code",
   "execution_count": 87,
   "metadata": {},
   "outputs": [
    {
     "data": {
      "text/plain": [
       "10"
      ]
     },
     "execution_count": 87,
     "metadata": {},
     "output_type": "execute_result"
    }
   ],
   "source": [
    "\"2365423124\".find(\"12\")"
   ]
  },
  {
   "cell_type": "markdown",
   "metadata": {},
   "source": [
    "# Задача №3"
   ]
  },
  {
   "cell_type": "markdown",
   "metadata": {},
   "source": [
    "Пользователь вводит с клавиатуры целое число, не меньшее 2.\n",
    "\n",
    "Выведите его **наименьший делитель**, отличный от 1, используя цикл while"
   ]
  },
  {
   "cell_type": "code",
   "execution_count": 4,
   "metadata": {},
   "outputs": [
    {
     "name": "stdin",
     "output_type": "stream",
     "text": [
      " 1\n"
     ]
    },
    {
     "name": "stdout",
     "output_type": "stream",
     "text": [
      "Введено число меньшее двух\n"
     ]
    }
   ],
   "source": [
    "n=int(input())\n",
    "\n",
    "\n",
    "if n>=2:\n",
    "    i=1\n",
    "    while(i<=n):\n",
    "        i=i+1\n",
    "        if n%i==0:\n",
    "            print(i)\n",
    "            break\n",
    "else:\n",
    "    print(\"Введено число меньшее двух\")"
   ]
  },
  {
   "cell_type": "markdown",
   "metadata": {},
   "source": [
    "# Задача №4"
   ]
  },
  {
   "cell_type": "markdown",
   "metadata": {},
   "source": [
    "Используя цикл while, напишите программу, которая запрашивает у пользователя трехзначный числовой пароль. __Пароль вводит как строку__ Если польователь вводит его неверно, то программа сообщает об это, а также указывает, на каких позициях ошибка, и запрашивает пароль снова. Если пароль введен корректно, программа выводит сообщение \"Добро пожаловать\""
   ]
  },
  {
   "cell_type": "code",
   "execution_count": 5,
   "metadata": {},
   "outputs": [
    {
     "name": "stdin",
     "output_type": "stream",
     "text": [
      "Введите трехзначный пароль 234\n"
     ]
    },
    {
     "name": "stdout",
     "output_type": "stream",
     "text": [
      "Упс, у Вас проблемы!\n",
      "Замечены ошибки на позициях:\n",
      "На позиции 1\n",
      "На позиции 2\n",
      "На позиции 3\n"
     ]
    },
    {
     "name": "stdin",
     "output_type": "stream",
     "text": [
      "Введите трехзначный пароль 123\n"
     ]
    },
    {
     "name": "stdout",
     "output_type": "stream",
     "text": [
      "Загрузка системы\n",
      "Добро пожаловать\n"
     ]
    }
   ],
   "source": [
    "#необязательный маневр\n",
    "import time as t\n",
    "#конец необязательного маневра\n",
    "\n",
    "while True:\n",
    "    #ввод пароля\n",
    "    s=input(\"Введите трехзначный пароль\")\n",
    "    pwd=\"123\"\n",
    "    \n",
    "    #обработка введенного пароля\n",
    "    if len(s)==3:\n",
    "        if s==pwd:\n",
    "            print(\"Загрузка системы\")\n",
    "            t.sleep(2) #здесь питон уснет на 2 секунды\n",
    "            print(\"Добро пожаловать\")\n",
    "            break\n",
    "        else:\n",
    "            print(\"Упс, у Вас проблемы!\")\n",
    "            t.sleep(2) #здесь питон уснет на 2 секунды\n",
    "            print(\"Замечены ошибки на позициях:\")\n",
    "            for i in range(3):\n",
    "                if s[i]!=pwd[i]:\n",
    "                    t.sleep(2) #здесь питон уснет на 2 секунды\n",
    "                    print(\"На позиции\",i+1)\n",
    "    else:\n",
    "        print(\"Попробуйте снова, так как вы ввели не трехзначный пароль\")\n",
    "        t.sleep(2) #здесь питон уснет на 2 секунды"
   ]
  },
  {
   "cell_type": "markdown",
   "metadata": {},
   "source": [
    "# Задача №5\n"
   ]
  },
  {
   "cell_type": "markdown",
   "metadata": {},
   "source": [
    "На вход подается строка, содержащая имя, фамилию и отчество. Напишите программу(**2мя способами**: с использованием списков и использованием **строковых методов**), которая обрабатывает входные данные и выводит \"Фамилию И.О.\""
   ]
  },
  {
   "cell_type": "markdown",
   "metadata": {},
   "source": [
    "Пример работы:\n",
    "\n",
    "Ввод: Майко Максим Витальевич\n",
    "\n",
    "Вывод: Майко М.В."
   ]
  },
  {
   "cell_type": "code",
   "execution_count": 1,
   "metadata": {},
   "outputs": [
    {
     "name": "stdout",
     "output_type": "stream",
     "text": [
      "Майко М.В.\n"
     ]
    }
   ],
   "source": [
    "ss= \"Майко Максим Витальевич\"\n",
    "\n",
    "lst= ss.split(\" \") #в аргументе сплита мы указываем разделитель\n",
    "print( lst[0] + \" \" + lst[1][0] + \".\" + lst[2][0] + \".\")\n"
   ]
  },
  {
   "cell_type": "code",
   "execution_count": 9,
   "metadata": {},
   "outputs": [
    {
     "name": "stdout",
     "output_type": "stream",
     "text": [
      "Майко М.В.\n"
     ]
    }
   ],
   "source": [
    "s=\"\"\n",
    "p = ss.find(\" \")\n",
    "\n",
    "s = s + ss[:p] + \" \" + ss[p+1] + '.'\n",
    "\n",
    "p = ss.find(\" \", p+1)\n",
    "\n",
    "s = s + ss[p+1] + '.'\n",
    "\n",
    "print(s)"
   ]
  },
  {
   "cell_type": "markdown",
   "metadata": {},
   "source": [
    "# Задача №6"
   ]
  },
  {
   "cell_type": "markdown",
   "metadata": {},
   "source": [
    "Создайте словарь, в котором ключами будут числа от 5 до 13, а значениями эти же числа, возведенные в четвертую степень."
   ]
  },
  {
   "cell_type": "code",
   "execution_count": 15,
   "metadata": {},
   "outputs": [
    {
     "data": {
      "text/plain": [
       "{5: 625,\n",
       " 6: 1296,\n",
       " 7: 2401,\n",
       " 8: 4096,\n",
       " 9: 6561,\n",
       " 10: 10000,\n",
       " 11: 14641,\n",
       " 12: 20736,\n",
       " 13: 28561}"
      ]
     },
     "execution_count": 15,
     "metadata": {},
     "output_type": "execute_result"
    }
   ],
   "source": [
    "# напоминание\n",
    "\n",
    "{i:i**4 for i in range(5,14)}"
   ]
  },
  {
   "cell_type": "markdown",
   "metadata": {},
   "source": [
    "# Задача №7"
   ]
  },
  {
   "cell_type": "markdown",
   "metadata": {},
   "source": [
    "Отсортируйте следующий список чисел по возрастанию двумя разными способами: "
   ]
  },
  {
   "cell_type": "code",
   "execution_count": 92,
   "metadata": {},
   "outputs": [],
   "source": [
    "lst=[3,9,0,2,5,3,-6,-1,1,10,8]"
   ]
  },
  {
   "cell_type": "code",
   "execution_count": 93,
   "metadata": {},
   "outputs": [],
   "source": [
    "lst.sort()"
   ]
  },
  {
   "cell_type": "code",
   "execution_count": 94,
   "metadata": {},
   "outputs": [
    {
     "name": "stdout",
     "output_type": "stream",
     "text": [
      "[-6, -1, 0, 1, 2, 3, 3, 5, 8, 9, 10]\n"
     ]
    }
   ],
   "source": [
    "print(lst)"
   ]
  },
  {
   "cell_type": "markdown",
   "metadata": {},
   "source": [
    "# Задача №8\n"
   ]
  },
  {
   "cell_type": "markdown",
   "metadata": {},
   "source": [
    "Дана строка **s**. Используя циклы и срезы, поменяйте в ней символы следующим образом: все символы, имеющие четные индексы, должны оказаться в начале строки, а за ними- оставшиеся символы(т.е. те, которые изначально имели нечётные индексы)"
   ]
  },
  {
   "cell_type": "code",
   "execution_count": 99,
   "metadata": {},
   "outputs": [
    {
     "data": {
      "text/plain": [
       "'Супер, ты молодец!'"
      ]
     },
     "execution_count": 99,
     "metadata": {},
     "output_type": "execute_result"
    }
   ],
   "source": [
    "s=\"С умпоелро,д етцы!\"\n",
    "\n",
    "s[0::2] + s[1::2]"
   ]
  },
  {
   "cell_type": "markdown",
   "metadata": {},
   "source": [
    "# Задача №9 <font style=\"color:red\">Пока делать не будем</font>"
   ]
  },
  {
   "cell_type": "code",
   "execution_count": null,
   "metadata": {},
   "outputs": [],
   "source": []
  },
  {
   "cell_type": "markdown",
   "metadata": {},
   "source": [
    "# Задача №10 <font style=\"color:red\">Пока делать не будем</font>"
   ]
  },
  {
   "cell_type": "code",
   "execution_count": null,
   "metadata": {},
   "outputs": [],
   "source": []
  },
  {
   "cell_type": "markdown",
   "metadata": {},
   "source": [
    "# Задача №11 <font style=\"color:red\">Пока делать не будем</font>"
   ]
  },
  {
   "cell_type": "code",
   "execution_count": null,
   "metadata": {},
   "outputs": [],
   "source": []
  },
  {
   "cell_type": "markdown",
   "metadata": {},
   "source": [
    "# Задача №12"
   ]
  },
  {
   "cell_type": "markdown",
   "metadata": {},
   "source": [
    "Напишите свою собственную функцию возведения числа в некоторую степень, которая будет работать рекурсивно. Нзавание функции - MyPower"
   ]
  },
  {
   "cell_type": "code",
   "execution_count": 22,
   "metadata": {},
   "outputs": [],
   "source": [
    "def MyPowerInit(n,d,a):\n",
    "    if d==1:\n",
    "        return n\n",
    "    else:\n",
    "        return MyPowerInit(n*a,d-1,a)\n",
    "\n",
    "def MyPower(n,d):\n",
    "    return MyPowerInit(n,d,n)\n"
   ]
  },
  {
   "cell_type": "code",
   "execution_count": 29,
   "metadata": {},
   "outputs": [
    {
     "data": {
      "text/plain": [
       "1048576"
      ]
     },
     "execution_count": 29,
     "metadata": {},
     "output_type": "execute_result"
    }
   ],
   "source": [
    "MyPower(4,10)"
   ]
  },
  {
   "cell_type": "markdown",
   "metadata": {},
   "source": [
    "# Задача №13"
   ]
  },
  {
   "cell_type": "markdown",
   "metadata": {},
   "source": [
    "С помощью рекурсии напишите функцию Bacteria(n, time=0), которая принимает на вход только число бактерии( то есть переменную n), а на выход выдает какое время потребуется бактерии, чтобы размнодится до n-штук.\n",
    "\n",
    "**Бактерии раз в секунду делятся на 2, и еще 1 секунду тратят на созревание, чтобы у них вновь была возможность делится пополам**"
   ]
  },
  {
   "cell_type": "code",
   "execution_count": 21,
   "metadata": {},
   "outputs": [],
   "source": [
    "def Bacteria(n):\n",
    "    return BacteriaInit(1,0,n)\n",
    "\n",
    "def BacteriaInit(n0, time, n):\n",
    "    if n0 >= n:\n",
    "        print(time)\n",
    "    else:\n",
    "        # print(\"Количество:\",n0,\"Время текущее:\",time)\n",
    "        BacteriaInit(2*n0, time + 3, n)"
   ]
  },
  {
   "cell_type": "code",
   "execution_count": 22,
   "metadata": {},
   "outputs": [
    {
     "name": "stdout",
     "output_type": "stream",
     "text": [
      "24\n"
     ]
    }
   ],
   "source": [
    "Bacteria(129)"
   ]
  },
  {
   "cell_type": "markdown",
   "metadata": {},
   "source": [
    "# Задача №14 "
   ]
  },
  {
   "cell_type": "markdown",
   "metadata": {},
   "source": [
    "Напишите функцию уплощения списка списков на первом уровне.\n",
    "\n",
    "Что сие означает:\n",
    "\n",
    "Вот у вас есть список [1,1,1,[2,2,2],[[3,3],3],4,4]\n",
    "\n",
    "После работы программы он должен стать таким:\n",
    "[1,1,1,2,2,2,[3,3],3,4,4]"
   ]
  },
  {
   "cell_type": "code",
   "execution_count": 24,
   "metadata": {},
   "outputs": [
    {
     "data": {
      "text/plain": [
       "[1, 1, 1, 2, 2, 2, [3, 3], 3, 4, 4]"
      ]
     },
     "execution_count": 24,
     "metadata": {},
     "output_type": "execute_result"
    }
   ],
   "source": [
    "lst = [1,1,1, [2,2,2] ,[[3,3],3],4,4]\n",
    "\n",
    "ls = []\n",
    "\n",
    "for i in lst:\n",
    "    if type(i) != list:\n",
    "        ls.append(i)\n",
    "    else:\n",
    "        for j in i:\n",
    "            ls.append(j)\n",
    "ls"
   ]
  }
 ],
 "metadata": {
  "kernelspec": {
   "display_name": "Python 3",
   "language": "python",
   "name": "python3"
  },
  "language_info": {
   "codemirror_mode": {
    "name": "ipython",
    "version": 3
   },
   "file_extension": ".py",
   "mimetype": "text/x-python",
   "name": "python",
   "nbconvert_exporter": "python",
   "pygments_lexer": "ipython3",
   "version": "3.7.4"
  }
 },
 "nbformat": 4,
 "nbformat_minor": 4
}
