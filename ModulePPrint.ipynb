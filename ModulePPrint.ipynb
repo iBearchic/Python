{
 "cells": [
  {
   "cell_type": "markdown",
   "metadata": {},
   "source": [
    "# Модуль pprint\n",
    "\n",
    "Модуль pprint (pretty printing) позволяет красиво отображать объекты Python. При этом сохраняется структура объекта и отображение, которое выводит pprint, можно использовать для создания объекта. Модуль pprint входит в стандартную библиотеку Python.\n",
    "\n",
    "Самый простой вариант использования модуля - функция ***pprint()***."
   ]
  },
  {
   "cell_type": "code",
   "execution_count": 3,
   "metadata": {},
   "outputs": [],
   "source": [
    " from pprint import pprint"
   ]
  },
  {
   "cell_type": "markdown",
   "metadata": {},
   "source": [
    "* Пример работы со словарем"
   ]
  },
  {
   "cell_type": "code",
   "execution_count": 4,
   "metadata": {},
   "outputs": [],
   "source": [
    "dict={'God':{1: 'Fridman',2: 'George',3: 'Moritsovich'},'casual':{1:'Maiko',2:'Maksim',3:'Vitalevich'},'Mister':{1:'Bekker',2:'Boris',3:'Michailovich'}}"
   ]
  },
  {
   "cell_type": "code",
   "execution_count": 7,
   "metadata": {},
   "outputs": [
    {
     "name": "stdout",
     "output_type": "stream",
     "text": [
      "{'God': {1: 'Fridman',\n",
      "         2: 'George',\n",
      "         3: 'Moritsovich'},\n",
      " 'Mister': {1: 'Bekker',\n",
      "            2: 'Boris',\n",
      "            3: 'Michailovich'},\n",
      " 'casual': {1: 'Maiko',\n",
      "            2: 'Maksim',\n",
      "            3: 'Vitalevich'}}\n"
     ]
    }
   ],
   "source": [
    "pprint(dict, width=1) # опция width позволяет настроить ширину выводимого сообщения"
   ]
  },
  {
   "cell_type": "markdown",
   "metadata": {},
   "source": [
    "* Пример работы со строкой"
   ]
  },
  {
   "cell_type": "code",
   "execution_count": 8,
   "metadata": {},
   "outputs": [],
   "source": [
    "st='Приветствую тебя, пустынный уголок,\\nПриют спокойствия, трудов и вдохновенья,\\nГде льется дней моих невидимый поток\\nНа лоне счастья и забвенья.'"
   ]
  },
  {
   "cell_type": "code",
   "execution_count": 9,
   "metadata": {},
   "outputs": [
    {
     "name": "stdout",
     "output_type": "stream",
     "text": [
      "('Приветствую тебя, пустынный уголок,\\n'\n",
      " 'Приют спокойствия, трудов и вдохновенья,\\n'\n",
      " 'Где льется дней моих невидимый поток\\n'\n",
      " 'На лоне счастья и забвенья.')\n"
     ]
    }
   ],
   "source": [
    "pprint(st)"
   ]
  },
  {
   "cell_type": "markdown",
   "metadata": {},
   "source": [
    "* Пример работы со списком списков"
   ]
  },
  {
   "cell_type": "code",
   "execution_count": 10,
   "metadata": {},
   "outputs": [],
   "source": [
    "marks=[['algebra',5,5,5,5,5,4],['diskret',5,5,4,4,5,5],['diff',4,4,5,5,4,4]]"
   ]
  },
  {
   "cell_type": "code",
   "execution_count": 11,
   "metadata": {},
   "outputs": [
    {
     "name": "stdout",
     "output_type": "stream",
     "text": [
      "[['algebra', 5, 5, 5, 5, 5, 4],\n",
      " ['diskret', 5, 5, 4, 4, 5, 5],\n",
      " ['diff', 4, 4, 5, 5, 4, 4]]\n"
     ]
    }
   ],
   "source": [
    "pprint(marks)"
   ]
  },
  {
   "cell_type": "markdown",
   "metadata": {},
   "source": [
    "## А что если, нам нужно \"в общем\" посмотреть на ситуацию?"
   ]
  },
  {
   "cell_type": "markdown",
   "metadata": {},
   "source": [
    "Тогда на  стоит обратиться к опции ***depth*** в функции **pprint**"
   ]
  },
  {
   "cell_type": "code",
   "execution_count": 12,
   "metadata": {},
   "outputs": [
    {
     "name": "stdout",
     "output_type": "stream",
     "text": [
      "{'God': {1: 'Fridman', 2: 'George', 3: 'Moritsovich'},\n",
      " 'Mister': {1: 'Bekker', 2: 'Boris', 3: 'Michailovich'},\n",
      " 'casual': {1: 'Maiko', 2: 'Maksim', 3: 'Vitalevich'}}\n"
     ]
    }
   ],
   "source": [
    "pprint(dict)"
   ]
  },
  {
   "cell_type": "code",
   "execution_count": 13,
   "metadata": {},
   "outputs": [
    {
     "name": "stdout",
     "output_type": "stream",
     "text": [
      "{'God': {...}, 'Mister': {...}, 'casual': {...}}\n"
     ]
    }
   ],
   "source": [
    "pprint(dict,depth=1)"
   ]
  },
  {
   "cell_type": "markdown",
   "metadata": {},
   "source": [
    "# Задание"
   ]
  },
  {
   "cell_type": "markdown",
   "metadata": {},
   "source": [
    "> Создайте расписание на Пятницу с помощью словаря и сделайте красивый вывод на экран"
   ]
  },
  {
   "cell_type": "code",
   "execution_count": null,
   "metadata": {},
   "outputs": [],
   "source": []
  }
 ],
 "metadata": {
  "kernelspec": {
   "display_name": "Python 3",
   "language": "python",
   "name": "python3"
  },
  "language_info": {
   "codemirror_mode": {
    "name": "ipython",
    "version": 3
   },
   "file_extension": ".py",
   "mimetype": "text/x-python",
   "name": "python",
   "nbconvert_exporter": "python",
   "pygments_lexer": "ipython3",
   "version": "3.8.5"
  }
 },
 "nbformat": 4,
 "nbformat_minor": 4
}
