{
 "cells": [
  {
   "cell_type": "markdown",
   "metadata": {},
   "source": [
    "## Модуль Copy\n",
    "\n",
    "Операция присваивания не копирует объект, он лишь создаёт ссылку на объект. Для изменяемых коллекций, или для коллекций, содержащих изменяемые элементы, часто необходима такая копия, чтобы её можно было изменить, не изменяя оригинал. Данный модуль предоставляет общие (поверхностная и глубокая) операции копирования.\n",
    "\n",
    "**copy.copy(x)** - возвращает поверхностную копию x.\n",
    "\n",
    "**copy.deepcopy(x)** - возвращает полную копию x.\n",
    "\n",
    "Разница между поверхностным и глубоким копированием существенна только для составных объектов, содержащих изменяемые объекты (например, список списков, или словарь, в качестве значений которого - списки или словари):\n",
    "\n",
    "* __Поверхностная копия__ создает новый составной объект, и затем (по мере возможности) вставляет в него ссылки на объекты, находящиеся в оригинале.\n",
    "* __Глубокая копия__ создает новый составной объект, и затем рекурсивно вставляет в него копии объектов, находящихся в оригинале."
   ]
  },
  {
   "cell_type": "code",
   "execution_count": 1,
   "metadata": {},
   "outputs": [
    {
     "name": "stdout",
     "output_type": "stream",
     "text": [
      "[1, 2, 3, [1, 2, 3, 4]] [1, 2, 3, [1, 2, 3, 4]]\n"
     ]
    }
   ],
   "source": [
    "a=[1, 2, 3, [1, 2, 3]]\n",
    "\n",
    "x=a\n",
    "\n",
    "x[3].append(4)\n",
    "\n",
    "print(x,a)"
   ]
  },
  {
   "cell_type": "code",
   "execution_count": 3,
   "metadata": {},
   "outputs": [
    {
     "name": "stdout",
     "output_type": "stream",
     "text": [
      "[1, 2, 3, [1, 2, 3]] [1, 2, 3, [1, 2, 3]]\n"
     ]
    }
   ],
   "source": [
    "import copy\n",
    "test_1 = [1, 2, 3, [1, 2, 3]]\n",
    "test_copy = copy.copy(test_1)\n",
    "print(test_1, test_copy)"
   ]
  },
  {
   "cell_type": "code",
   "execution_count": 4,
   "metadata": {},
   "outputs": [
    {
     "name": "stdout",
     "output_type": "stream",
     "text": [
      "[1, 2, 3, [1, 2, 3, 4]] [1, 2, 3, [1, 2, 3, 4]]\n"
     ]
    }
   ],
   "source": [
    "test_copy[3].append(4)\n",
    "print(test_1, test_copy)\n"
   ]
  },
  {
   "cell_type": "code",
   "execution_count": 6,
   "metadata": {},
   "outputs": [
    {
     "name": "stdout",
     "output_type": "stream",
     "text": [
      "[1, 2, 3, [1, 2, 3, 4]] [1, 2, 3, [1, 2, 3]]\n"
     ]
    }
   ],
   "source": [
    "a = [1, 2, 3, [1, 2, 3]]\n",
    "\n",
    "x = copy.deepcopy(a)\n",
    "x[3].append(4)\n",
    "\n",
    "print(x, a)\n"
   ]
  },
  {
   "cell_type": "markdown",
   "metadata": {},
   "source": [
    "# Задание"
   ]
  },
  {
   "cell_type": "markdown",
   "metadata": {},
   "source": [
    "> **Используя глубокое копирование**, напишите *функцию CountTill()*, которая получает на ***вход*** число от 1 до 50, затем умножает его на два до тех пор, пока оно не превысит число 228, и на ***выход*** выдает два числа: исходное и полученное"
   ]
  },
  {
   "cell_type": "code",
   "execution_count": null,
   "metadata": {},
   "outputs": [],
   "source": []
  }
 ],
 "metadata": {
  "kernelspec": {
   "display_name": "Python 3",
   "language": "python",
   "name": "python3"
  },
  "language_info": {
   "codemirror_mode": {
    "name": "ipython",
    "version": 3
   },
   "file_extension": ".py",
   "mimetype": "text/x-python",
   "name": "python",
   "nbconvert_exporter": "python",
   "pygments_lexer": "ipython3",
   "version": "3.8.5"
  }
 },
 "nbformat": 4,
 "nbformat_minor": 4
}
